{
  "nbformat": 4,
  "nbformat_minor": 0,
  "metadata": {
    "colab": {
      "provenance": [],
      "authorship_tag": "ABX9TyPThwW18usGpkmH+jVRo78V"
    },
    "kernelspec": {
      "name": "python3",
      "display_name": "Python 3"
    },
    "language_info": {
      "name": "python"
    }
  },
  "cells": [
    {
      "cell_type": "code",
      "source": [
        "!pip install pyreadstat\n",
        "!pip install pandas\n"
      ],
      "metadata": {
        "colab": {
          "base_uri": "https://localhost:8080/"
        },
        "collapsed": true,
        "id": "zkj2-xB5PG6v",
        "outputId": "ca171a37-f003-4a06-d438-1e8b48f7c4aa"
      },
      "execution_count": 3,
      "outputs": [
        {
          "output_type": "stream",
          "name": "stdout",
          "text": [
            "Collecting pyreadstat\n",
            "  Downloading pyreadstat-1.3.1-cp312-cp312-manylinux2014_x86_64.manylinux_2_17_x86_64.whl.metadata (1.2 kB)\n",
            "Requirement already satisfied: narwhals>=1.47 in /usr/local/lib/python3.12/dist-packages (from pyreadstat) (2.6.0)\n",
            "Requirement already satisfied: numpy in /usr/local/lib/python3.12/dist-packages (from pyreadstat) (2.0.2)\n",
            "Downloading pyreadstat-1.3.1-cp312-cp312-manylinux2014_x86_64.manylinux_2_17_x86_64.whl (666 kB)\n",
            "\u001b[?25l   \u001b[90m━━━━━━━━━━━━━━━━━━━━━━━━━━━━━━━━━━━━━━━━\u001b[0m \u001b[32m0.0/666.4 kB\u001b[0m \u001b[31m?\u001b[0m eta \u001b[36m-:--:--\u001b[0m\r\u001b[2K   \u001b[91m━━━━━━━━━━━━━━━━━━━━━━━━━━━━━━━━━━━━━━━\u001b[0m\u001b[91m╸\u001b[0m \u001b[32m665.6/666.4 kB\u001b[0m \u001b[31m24.8 MB/s\u001b[0m eta \u001b[36m0:00:01\u001b[0m\r\u001b[2K   \u001b[90m━━━━━━━━━━━━━━━━━━━━━━━━━━━━━━━━━━━━━━━━\u001b[0m \u001b[32m666.4/666.4 kB\u001b[0m \u001b[31m17.4 MB/s\u001b[0m eta \u001b[36m0:00:00\u001b[0m\n",
            "\u001b[?25hInstalling collected packages: pyreadstat\n",
            "Successfully installed pyreadstat-1.3.1\n",
            "Requirement already satisfied: pandas in /usr/local/lib/python3.12/dist-packages (2.2.2)\n",
            "Requirement already satisfied: numpy>=1.26.0 in /usr/local/lib/python3.12/dist-packages (from pandas) (2.0.2)\n",
            "Requirement already satisfied: python-dateutil>=2.8.2 in /usr/local/lib/python3.12/dist-packages (from pandas) (2.9.0.post0)\n",
            "Requirement already satisfied: pytz>=2020.1 in /usr/local/lib/python3.12/dist-packages (from pandas) (2025.2)\n",
            "Requirement already satisfied: tzdata>=2022.7 in /usr/local/lib/python3.12/dist-packages (from pandas) (2025.2)\n",
            "Requirement already satisfied: six>=1.5 in /usr/local/lib/python3.12/dist-packages (from python-dateutil>=2.8.2->pandas) (1.17.0)\n"
          ]
        }
      ]
    },
    {
      "cell_type": "code",
      "source": [
        "import pyreadstat\n",
        "import pandas as pd\n",
        "import os"
      ],
      "metadata": {
        "id": "Gm-k6lFyOmW5"
      },
      "execution_count": 7,
      "outputs": []
    },
    {
      "cell_type": "code",
      "source": [
        "# attempted to use pyreadstat to read xpt file\n",
        "# the  file has invalid type of formatting\n",
        "df, meta = pyreadstat.read_xport(\"/content/raw/DEMO_L.xpt\")\n",
        "print(df.head())"
      ],
      "metadata": {
        "id": "pEeHDyvx8hlI",
        "outputId": "f29d683a-08ec-4d95-dfcd-8095569c1bff",
        "colab": {
          "base_uri": "https://localhost:8080/",
          "height": 297
        }
      },
      "execution_count": 6,
      "outputs": [
        {
          "output_type": "error",
          "ename": "UnicodeDecodeError",
          "evalue": "'utf-8' codec can't decode byte 0x92 in position 13: invalid start byte",
          "traceback": [
            "\u001b[0;31m---------------------------------------------------------------------------\u001b[0m",
            "\u001b[0;31mUnicodeDecodeError\u001b[0m                        Traceback (most recent call last)",
            "\u001b[0;32m/tmp/ipython-input-2056515746.py\u001b[0m in \u001b[0;36m<cell line: 0>\u001b[0;34m()\u001b[0m\n\u001b[1;32m      1\u001b[0m \u001b[0;31m# attempted to use pyreadstat to read xpt file\u001b[0m\u001b[0;34m\u001b[0m\u001b[0;34m\u001b[0m\u001b[0m\n\u001b[1;32m      2\u001b[0m \u001b[0;31m# the  file has invalid type of formatting\u001b[0m\u001b[0;34m\u001b[0m\u001b[0;34m\u001b[0m\u001b[0m\n\u001b[0;32m----> 3\u001b[0;31m \u001b[0mdf\u001b[0m\u001b[0;34m,\u001b[0m \u001b[0mmeta\u001b[0m \u001b[0;34m=\u001b[0m \u001b[0mpyreadstat\u001b[0m\u001b[0;34m.\u001b[0m\u001b[0mread_xport\u001b[0m\u001b[0;34m(\u001b[0m\u001b[0;34m\"/content/raw/DEMO_L.xpt\"\u001b[0m\u001b[0;34m)\u001b[0m\u001b[0;34m\u001b[0m\u001b[0;34m\u001b[0m\u001b[0m\n\u001b[0m\u001b[1;32m      4\u001b[0m \u001b[0mprint\u001b[0m\u001b[0;34m(\u001b[0m\u001b[0mdf\u001b[0m\u001b[0;34m.\u001b[0m\u001b[0mhead\u001b[0m\u001b[0;34m(\u001b[0m\u001b[0;34m)\u001b[0m\u001b[0;34m)\u001b[0m\u001b[0;34m\u001b[0m\u001b[0;34m\u001b[0m\u001b[0m\n",
            "\u001b[0;32mpyreadstat/pyreadstat.pyx\u001b[0m in \u001b[0;36mpyreadstat.pyreadstat.read_xport\u001b[0;34m()\u001b[0m\n",
            "\u001b[0;32mpyreadstat/_readstat_parser.pyx\u001b[0m in \u001b[0;36mpyreadstat._readstat_parser.run_conversion\u001b[0;34m()\u001b[0m\n",
            "\u001b[0;32mpyreadstat/_readstat_parser.pyx\u001b[0m in \u001b[0;36mpyreadstat._readstat_parser.handle_variable\u001b[0;34m()\u001b[0m\n",
            "\u001b[0;31mUnicodeDecodeError\u001b[0m: 'utf-8' codec can't decode byte 0x92 in position 13: invalid start byte"
          ]
        }
      ]
    },
    {
      "cell_type": "code",
      "source": [
        "#  checking for xpt file that are non readable with pyreadtat because of formatting issue\n",
        "folder = \"/content/raw/\"\n",
        "for file in os.listdir(folder):\n",
        "    if file.endswith(\".xpt\"):\n",
        "        path = os.path.join(folder, file)\n",
        "        try:\n",
        "            df, meta = pyreadstat.read_xport(path)\n",
        "            print(f\"✅ Loaded: {file}\")\n",
        "        except Exception as e:\n",
        "            print(f\"❌ Failed: {file} — {e}\")"
      ],
      "metadata": {
        "id": "ylcabwcKW7rs",
        "outputId": "72ab4bcd-aada-4578-bbef-2e12e4e1faef",
        "colab": {
          "base_uri": "https://localhost:8080/"
        }
      },
      "execution_count": 8,
      "outputs": [
        {
          "output_type": "stream",
          "name": "stdout",
          "text": [
            "✅ Loaded: VID_L.xpt\n",
            "✅ Loaded: HEPB_S_L.xpt\n",
            "✅ Loaded: PAQ_L.xpt\n",
            "❌ Failed: DEMO_L.xpt — 'utf-8' codec can't decode byte 0x92 in position 13: invalid start byte\n",
            "✅ Loaded: KIQ_U_L.xpt\n",
            "✅ Loaded: BPXO_L.xpt\n",
            "✅ Loaded: WHQ_L.xpt\n"
          ]
        }
      ]
    },
    {
      "cell_type": "code",
      "source": [
        "# gave up on converting to change formatting issue in the xpt file and tried to use R instead"
      ],
      "metadata": {
        "colab": {
          "base_uri": "https://localhost:8080/",
          "height": 263
        },
        "id": "bvpr2t4dPdZq",
        "outputId": "31941b84-3781-4949-ee63-01633bccac8d"
      },
      "execution_count": null,
      "outputs": [
        {
          "output_type": "error",
          "ename": "UnicodeDecodeError",
          "evalue": "'utf-8' codec can't decode byte 0x92 in position 13: invalid start byte",
          "traceback": [
            "\u001b[0;31m---------------------------------------------------------------------------\u001b[0m",
            "\u001b[0;31mUnicodeDecodeError\u001b[0m                        Traceback (most recent call last)",
            "\u001b[0;32m/tmp/ipython-input-688101176.py\u001b[0m in \u001b[0;36m<cell line: 0>\u001b[0;34m()\u001b[0m\n\u001b[0;32m----> 1\u001b[0;31m \u001b[0mdf\u001b[0m\u001b[0;34m,\u001b[0m \u001b[0mmeta\u001b[0m \u001b[0;34m=\u001b[0m \u001b[0mpyreadstat\u001b[0m\u001b[0;34m.\u001b[0m\u001b[0mread_xport\u001b[0m\u001b[0;34m(\u001b[0m\u001b[0mdemo\u001b[0m\u001b[0;34m)\u001b[0m\u001b[0;34m\u001b[0m\u001b[0;34m\u001b[0m\u001b[0m\n\u001b[0m\u001b[1;32m      2\u001b[0m \u001b[0mprint\u001b[0m\u001b[0;34m(\u001b[0m\u001b[0mdf\u001b[0m\u001b[0;34m.\u001b[0m\u001b[0mhead\u001b[0m\u001b[0;34m(\u001b[0m\u001b[0;34m)\u001b[0m\u001b[0;34m)\u001b[0m\u001b[0;34m\u001b[0m\u001b[0;34m\u001b[0m\u001b[0m\n",
            "\u001b[0;32mpyreadstat/pyreadstat.pyx\u001b[0m in \u001b[0;36mpyreadstat.pyreadstat.read_xport\u001b[0;34m()\u001b[0m\n",
            "\u001b[0;32mpyreadstat/_readstat_parser.pyx\u001b[0m in \u001b[0;36mpyreadstat._readstat_parser.run_conversion\u001b[0;34m()\u001b[0m\n",
            "\u001b[0;32mpyreadstat/_readstat_parser.pyx\u001b[0m in \u001b[0;36mpyreadstat._readstat_parser.handle_variable\u001b[0;34m()\u001b[0m\n",
            "\u001b[0;31mUnicodeDecodeError\u001b[0m: 'utf-8' codec can't decode byte 0x92 in position 13: invalid start byte"
          ]
        }
      ]
    },
    {
      "cell_type": "code",
      "source": [
        "# Using R to convert xpt to csv\n",
        "# Change Runtime Type to R, prior to doing the script below\n",
        "# Installing haven (only needed once)\n",
        "install.packages(\"haven\")"
      ],
      "metadata": {
        "id": "P8nR38M4aEh1",
        "outputId": "50281fae-a759-416b-8177-adc60a6612b1",
        "colab": {
          "base_uri": "https://localhost:8080/"
        }
      },
      "execution_count": 1,
      "outputs": [
        {
          "output_type": "stream",
          "name": "stderr",
          "text": [
            "Installing package into ‘/usr/local/lib/R/site-library’\n",
            "(as ‘lib’ is unspecified)\n",
            "\n"
          ]
        }
      ]
    },
    {
      "cell_type": "code",
      "source": [
        "# Load the library\n",
        "library(haven)\n",
        "\n",
        "# Set folder path\n",
        "folder <- \"/content/raw\""
      ],
      "metadata": {
        "id": "9FrlvYK6aK3y"
      },
      "execution_count": 2,
      "outputs": []
    },
    {
      "cell_type": "code",
      "source": [
        "# Converting single .xpt file to .csv\n",
        "library(haven)\n",
        "data <- read_xpt(\"/content/raw/DEMO_L.xpt\")\n",
        "write.csv(data, \"/content/raw/DEMO_L.csv\", row.names = FALSE)"
      ],
      "metadata": {
        "id": "zoJqmwojPgWI"
      },
      "execution_count": null,
      "outputs": []
    },
    {
      "cell_type": "code",
      "source": [
        "\n",
        "# Converting all .xpt files to .csv\n",
        "\n",
        "# List all .xpt files\n",
        "xpt_files <- list.files(folder, pattern = \"\\\\.xpt$\", full.names = TRUE)\n",
        "\n",
        "# Loop through and convert each to .csv\n",
        "for (xpt_file in xpt_files) {\n",
        "  # Read .xpt file\n",
        "  data <- read_xpt(xpt_file)\n",
        "\n",
        "  # Create .csv filename\n",
        "  csv_file <- sub(\"\\\\.xpt$\", \".csv\", xpt_file)\n",
        "\n",
        "  # Write to CSV\n",
        "  write.csv(data, csv_file, row.names = FALSE)\n",
        "\n",
        "  cat(\"✅ Converted:\", xpt_file, \"→\", csv_file, \"\\n\")\n",
        "}"
      ],
      "metadata": {
        "id": "Y22x0sxZZLm-",
        "outputId": "7dec449f-d840-4836-8a7d-b51fffff3801",
        "colab": {
          "base_uri": "https://localhost:8080/"
        }
      },
      "execution_count": 3,
      "outputs": [
        {
          "output_type": "stream",
          "name": "stdout",
          "text": [
            "✅ Converted: /content/raw/BPXO_L.xpt → /content/raw/BPXO_L.csv \n",
            "✅ Converted: /content/raw/DEMO_L.xpt → /content/raw/DEMO_L.csv \n",
            "✅ Converted: /content/raw/HEPB_S_L.xpt → /content/raw/HEPB_S_L.csv \n",
            "✅ Converted: /content/raw/KIQ_U_L.xpt → /content/raw/KIQ_U_L.csv \n",
            "✅ Converted: /content/raw/PAQ_L.xpt → /content/raw/PAQ_L.csv \n",
            "✅ Converted: /content/raw/VID_L.xpt → /content/raw/VID_L.csv \n",
            "✅ Converted: /content/raw/WHQ_L.xpt → /content/raw/WHQ_L.csv \n"
          ]
        }
      ]
    },
    {
      "cell_type": "code",
      "execution_count": 9,
      "metadata": {
        "id": "GK5IsFKQNWOW"
      },
      "outputs": [],
      "source": [
        "# Change Runtime Type back to Python prior to scripts below\n",
        "# Mapping urls\n",
        "demo = \"/content/raw/DEMO_L.csv\"\n",
        "bp = \"/content/raw/BPXO_L.csv\"\n",
        "vitd = \"/content/raw/VID_L.csv\"\n",
        "hepb = \"/content/raw/HEPB_S_L.csv\"\n",
        "kidney = \"/content/raw/KIQ_U_L.csv\"\n",
        "minbehavior = \"/content/raw/PAQ_L.csv\"\n",
        "weight = \"/content/raw/WHQ_L.csv\""
      ]
    },
    {
      "cell_type": "code",
      "source": [
        "demo = pd.read_csv(demo)\n",
        "print(demo.head())"
      ],
      "metadata": {
        "id": "b6IMadaSYhVb",
        "colab": {
          "base_uri": "https://localhost:8080/"
        },
        "outputId": "af805b39-02e1-4347-fb13-0fde8aa965dc"
      },
      "execution_count": 10,
      "outputs": [
        {
          "output_type": "stream",
          "name": "stdout",
          "text": [
            "     SEQN  SDDSRVYR  RIDSTATR  RIAGENDR  RIDAGEYR  RIDAGEMN  RIDRETH1  \\\n",
            "0  130378        12         2         1        43       NaN         5   \n",
            "1  130379        12         2         1        66       NaN         3   \n",
            "2  130380        12         2         2        44       NaN         2   \n",
            "3  130381        12         2         2         5       NaN         5   \n",
            "4  130382        12         2         1         2       NaN         3   \n",
            "\n",
            "   RIDRETH3  RIDEXMON  RIDEXAGM  ...  DMDHRGND  DMDHRAGZ  DMDHREDZ  DMDHRMAZ  \\\n",
            "0         6       2.0       NaN  ...       NaN       NaN       NaN       NaN   \n",
            "1         3       2.0       NaN  ...       NaN       NaN       NaN       NaN   \n",
            "2         2       1.0       NaN  ...       NaN       NaN       NaN       NaN   \n",
            "3         7       1.0      71.0  ...       2.0       2.0       2.0       3.0   \n",
            "4         3       2.0      34.0  ...       2.0       2.0       3.0       1.0   \n",
            "\n",
            "   DMDHSEDZ      WTINT2YR      WTMEC2YR  SDMVSTRA  SDMVPSU  INDFMPIR  \n",
            "0       NaN  50055.450807  54374.463898       173        2      5.00  \n",
            "1       NaN  29087.450605  34084.721548       173        2      5.00  \n",
            "2       NaN  80062.674301  81196.277992       174        1      1.41  \n",
            "3       NaN  38807.268902  55698.607106       182        2      1.53  \n",
            "4       2.0  30607.519774  36434.146346       182        2      3.60  \n",
            "\n",
            "[5 rows x 27 columns]\n"
          ]
        }
      ]
    },
    {
      "cell_type": "code",
      "source": [
        "# Setup needed for Analysis\n",
        "import numpy as np\n",
        "from scipy import stats\n",
        "import matplotlib.pyplot as plt\n",
        "import seaborn as sns"
      ],
      "metadata": {
        "id": "toEcJIMFd2xo"
      },
      "execution_count": 13,
      "outputs": []
    },
    {
      "cell_type": "code",
      "source": [
        "print(demo.DMDMARTZ)\n",
        "print(demo.DMDEDUC2)"
      ],
      "metadata": {
        "id": "wkg4urBaFM0t",
        "outputId": "957d1945-dc48-4bb1-f2bf-20325029cc30",
        "colab": {
          "base_uri": "https://localhost:8080/"
        }
      },
      "execution_count": 16,
      "outputs": [
        {
          "output_type": "stream",
          "name": "stdout",
          "text": [
            "0        1.0\n",
            "1        1.0\n",
            "2        1.0\n",
            "3        NaN\n",
            "4        NaN\n",
            "        ... \n",
            "11928    NaN\n",
            "11929    3.0\n",
            "11930    1.0\n",
            "11931    2.0\n",
            "11932    1.0\n",
            "Name: DMDMARTZ, Length: 11933, dtype: float64\n",
            "0        5.0\n",
            "1        5.0\n",
            "2        3.0\n",
            "3        NaN\n",
            "4        NaN\n",
            "        ... \n",
            "11928    NaN\n",
            "11929    5.0\n",
            "11930    4.0\n",
            "11931    4.0\n",
            "11932    3.0\n",
            "Name: DMDEDUC2, Length: 11933, dtype: float64\n"
          ]
        }
      ]
    },
    {
      "cell_type": "code",
      "source": [
        "demo_q1 = demo[['DMDMARTZ', 'DMDEDUC2']].copy()"
      ],
      "metadata": {
        "id": "tSxd529yF18W"
      },
      "execution_count": 18,
      "outputs": []
    },
    {
      "cell_type": "code",
      "source": [
        "print(demo_q1)"
      ],
      "metadata": {
        "id": "DOFucESBGnmY",
        "outputId": "ad3e9c81-5658-4b10-a2d1-66d7a053eaf0",
        "colab": {
          "base_uri": "https://localhost:8080/"
        }
      },
      "execution_count": 24,
      "outputs": [
        {
          "output_type": "stream",
          "name": "stdout",
          "text": [
            "       DMDMARTZ  DMDEDUC2\n",
            "0           1.0       5.0\n",
            "2           1.0       3.0\n",
            "6           3.0       2.0\n",
            "8           1.0       4.0\n",
            "9           3.0       5.0\n",
            "13          3.0       3.0\n",
            "26          2.0       4.0\n",
            "29          2.0       5.0\n",
            "30         99.0       2.0\n",
            "32          2.0       1.0\n",
            "35          1.0       2.0\n",
            "38          2.0       3.0\n",
            "53          1.0       1.0\n",
            "68          3.0       4.0\n",
            "72          2.0       2.0\n",
            "171         3.0       1.0\n",
            "266        77.0       5.0\n",
            "404        99.0       5.0\n",
            "1261        2.0       9.0\n",
            "1954        1.0       9.0\n",
            "3524       77.0       4.0\n",
            "5989        3.0       9.0\n",
            "8056       77.0       3.0\n",
            "11188      99.0       1.0\n"
          ]
        }
      ]
    },
    {
      "cell_type": "code",
      "source": [
        "#cleaning new demo_q1\n",
        "\n",
        "#removing duplicates\n",
        "demo_q1 = demo_q1.drop_duplicates()\n",
        "\n",
        "demo_q1 = demo_q1[\n",
        "    demo_q1['DMDMARTZ'].notna() & (demo_q1['DMDMARTZ'].astype(str).str.strip() != \"\") &\n",
        "    demo_q1['DMDEDUC2'].notna() & (demo_q1['DMDEDUC2'].astype(str).str.strip() != \"\")\n",
        "]"
      ],
      "metadata": {
        "id": "t173WaMOGrLn"
      },
      "execution_count": 22,
      "outputs": []
    },
    {
      "cell_type": "code",
      "source": [],
      "metadata": {
        "id": "Rr91oKFSHoVD"
      },
      "execution_count": null,
      "outputs": []
    }
  ]
}