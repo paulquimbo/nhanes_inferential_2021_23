{
  "nbformat": 4,
  "nbformat_minor": 0,
  "metadata": {
    "colab": {
      "provenance": [],
      "authorship_tag": "ABX9TyOEPDEceHVrGcDY9Wjd+7tN",
      "include_colab_link": true
    },
    "kernelspec": {
      "name": "python3",
      "display_name": "Python 3"
    },
    "language_info": {
      "name": "python"
    }
  },
  "cells": [
    {
      "cell_type": "markdown",
      "metadata": {
        "id": "view-in-github",
        "colab_type": "text"
      },
      "source": [
        "<a href=\"https://colab.research.google.com/github/paulquimbo/nhanes_inferential_2021_23/blob/main/nhanes_inferential.ipynb\" target=\"_parent\"><img src=\"https://colab.research.google.com/assets/colab-badge.svg\" alt=\"Open In Colab\"/></a>"
      ]
    },
    {
      "cell_type": "code",
      "source": [
        "!pip install pyreadstat\n",
        "!pip install pandas\n"
      ],
      "metadata": {
        "colab": {
          "base_uri": "https://localhost:8080/"
        },
        "collapsed": true,
        "id": "zkj2-xB5PG6v",
        "outputId": "c5b7a6ab-ccff-4acb-bec4-c6fcc8ac53ae"
      },
      "execution_count": 1,
      "outputs": [
        {
          "output_type": "stream",
          "name": "stdout",
          "text": [
            "Requirement already satisfied: pyreadstat in /usr/local/lib/python3.12/dist-packages (1.3.1)\n",
            "Requirement already satisfied: narwhals>=1.47 in /usr/local/lib/python3.12/dist-packages (from pyreadstat) (2.6.0)\n",
            "Requirement already satisfied: numpy in /usr/local/lib/python3.12/dist-packages (from pyreadstat) (2.0.2)\n",
            "Requirement already satisfied: pandas in /usr/local/lib/python3.12/dist-packages (2.2.2)\n",
            "Requirement already satisfied: numpy>=1.26.0 in /usr/local/lib/python3.12/dist-packages (from pandas) (2.0.2)\n",
            "Requirement already satisfied: python-dateutil>=2.8.2 in /usr/local/lib/python3.12/dist-packages (from pandas) (2.9.0.post0)\n",
            "Requirement already satisfied: pytz>=2020.1 in /usr/local/lib/python3.12/dist-packages (from pandas) (2025.2)\n",
            "Requirement already satisfied: tzdata>=2022.7 in /usr/local/lib/python3.12/dist-packages (from pandas) (2025.2)\n",
            "Requirement already satisfied: six>=1.5 in /usr/local/lib/python3.12/dist-packages (from python-dateutil>=2.8.2->pandas) (1.17.0)\n"
          ]
        }
      ]
    },
    {
      "cell_type": "code",
      "source": [
        "import pyreadstat\n",
        "import pandas as pd\n",
        "import os"
      ],
      "metadata": {
        "id": "Gm-k6lFyOmW5"
      },
      "execution_count": 2,
      "outputs": []
    },
    {
      "cell_type": "code",
      "source": [
        "#  checking for xpt file that are non readable with pyreadtat because of formatting issue\n",
        "folder = \"/content/raw/\"\n",
        "for file in os.listdir(folder):\n",
        "    if file.endswith(\".xpt\"):\n",
        "        path = os.path.join(folder, file)\n",
        "        try:\n",
        "            df, meta = pyreadstat.read_xport(path)\n",
        "            print(f\"✅ Loaded: {file}\")\n",
        "        except Exception as e:\n",
        "            print(f\"❌ Failed: {file} — {e}\")"
      ],
      "metadata": {
        "id": "ylcabwcKW7rs",
        "outputId": "ae73a4de-d908-4c6c-f31d-67d63ccf7f0b",
        "colab": {
          "base_uri": "https://localhost:8080/"
        }
      },
      "execution_count": null,
      "outputs": [
        {
          "output_type": "stream",
          "name": "stdout",
          "text": [
            "✅ Loaded: VID_L.xpt\n",
            "✅ Loaded: HEPB_S_L.xpt\n",
            "✅ Loaded: PAQ_L.xpt\n",
            "❌ Failed: DEMO_L.xpt — 'utf-8' codec can't decode byte 0x92 in position 13: invalid start byte\n",
            "✅ Loaded: KIQ_U_L.xpt\n",
            "✅ Loaded: BPXO_L.xpt\n",
            "✅ Loaded: WHQ_L.xpt\n"
          ]
        }
      ]
    },
    {
      "cell_type": "code",
      "source": [
        "df, meta = pyreadstat.read_xport(demo)\n",
        "print(df.head())"
      ],
      "metadata": {
        "colab": {
          "base_uri": "https://localhost:8080/",
          "height": 263
        },
        "id": "bvpr2t4dPdZq",
        "outputId": "31941b84-3781-4949-ee63-01633bccac8d"
      },
      "execution_count": null,
      "outputs": [
        {
          "output_type": "error",
          "ename": "UnicodeDecodeError",
          "evalue": "'utf-8' codec can't decode byte 0x92 in position 13: invalid start byte",
          "traceback": [
            "\u001b[0;31m---------------------------------------------------------------------------\u001b[0m",
            "\u001b[0;31mUnicodeDecodeError\u001b[0m                        Traceback (most recent call last)",
            "\u001b[0;32m/tmp/ipython-input-688101176.py\u001b[0m in \u001b[0;36m<cell line: 0>\u001b[0;34m()\u001b[0m\n\u001b[0;32m----> 1\u001b[0;31m \u001b[0mdf\u001b[0m\u001b[0;34m,\u001b[0m \u001b[0mmeta\u001b[0m \u001b[0;34m=\u001b[0m \u001b[0mpyreadstat\u001b[0m\u001b[0;34m.\u001b[0m\u001b[0mread_xport\u001b[0m\u001b[0;34m(\u001b[0m\u001b[0mdemo\u001b[0m\u001b[0;34m)\u001b[0m\u001b[0;34m\u001b[0m\u001b[0;34m\u001b[0m\u001b[0m\n\u001b[0m\u001b[1;32m      2\u001b[0m \u001b[0mprint\u001b[0m\u001b[0;34m(\u001b[0m\u001b[0mdf\u001b[0m\u001b[0;34m.\u001b[0m\u001b[0mhead\u001b[0m\u001b[0;34m(\u001b[0m\u001b[0;34m)\u001b[0m\u001b[0;34m)\u001b[0m\u001b[0;34m\u001b[0m\u001b[0;34m\u001b[0m\u001b[0m\n",
            "\u001b[0;32mpyreadstat/pyreadstat.pyx\u001b[0m in \u001b[0;36mpyreadstat.pyreadstat.read_xport\u001b[0;34m()\u001b[0m\n",
            "\u001b[0;32mpyreadstat/_readstat_parser.pyx\u001b[0m in \u001b[0;36mpyreadstat._readstat_parser.run_conversion\u001b[0;34m()\u001b[0m\n",
            "\u001b[0;32mpyreadstat/_readstat_parser.pyx\u001b[0m in \u001b[0;36mpyreadstat._readstat_parser.handle_variable\u001b[0;34m()\u001b[0m\n",
            "\u001b[0;31mUnicodeDecodeError\u001b[0m: 'utf-8' codec can't decode byte 0x92 in position 13: invalid start byte"
          ]
        }
      ]
    },
    {
      "cell_type": "code",
      "source": [
        "# Using R to convert xpt to csv\n",
        "# Installing haven (only needed once)\n",
        "install.packages(\"haven\")"
      ],
      "metadata": {
        "id": "P8nR38M4aEh1"
      },
      "execution_count": null,
      "outputs": []
    },
    {
      "cell_type": "code",
      "source": [
        "# Load the library\n",
        "library(haven)\n",
        "\n",
        "# Set folder path\n",
        "folder <- \"/content/raw\""
      ],
      "metadata": {
        "id": "9FrlvYK6aK3y"
      },
      "execution_count": null,
      "outputs": []
    },
    {
      "cell_type": "code",
      "source": [
        "\n",
        "# Converting all .xpt files to .csv\n",
        "\n",
        "# List all .xpt files\n",
        "xpt_files <- list.files(folder, pattern = \"\\\\.xpt$\", full.names = TRUE)\n",
        "\n",
        "# Loop through and convert each to .csv\n",
        "for (xpt_file in xpt_files) {\n",
        "  # Read .xpt file\n",
        "  data <- read_xpt(xpt_file)\n",
        "\n",
        "  # Create .csv filename\n",
        "  csv_file <- sub(\"\\\\.xpt$\", \".csv\", xpt_file)\n",
        "\n",
        "  # Write to CSV\n",
        "  write.csv(data, csv_file, row.names = FALSE)\n",
        "\n",
        "  cat(\"✅ Converted:\", xpt_file, \"→\", csv_file, \"\\n\")\n",
        "}"
      ],
      "metadata": {
        "id": "Y22x0sxZZLm-",
        "outputId": "ac708037-2fa3-4151-9d0e-a0522bde0b64",
        "colab": {
          "base_uri": "https://localhost:8080/"
        }
      },
      "execution_count": null,
      "outputs": [
        {
          "output_type": "stream",
          "name": "stderr",
          "text": [
            "Installing package into ‘/usr/local/lib/R/site-library’\n",
            "(as ‘lib’ is unspecified)\n",
            "\n"
          ]
        },
        {
          "output_type": "stream",
          "name": "stdout",
          "text": [
            "✅ Converted: /content/raw/BPXO_L.xpt → /content/raw/BPXO_L.csv \n",
            "✅ Converted: /content/raw/DEMO_L.xpt → /content/raw/DEMO_L.csv \n",
            "✅ Converted: /content/raw/HEPB_S_L.xpt → /content/raw/HEPB_S_L.csv \n",
            "✅ Converted: /content/raw/KIQ_U_L.xpt → /content/raw/KIQ_U_L.csv \n",
            "✅ Converted: /content/raw/PAQ_L.xpt → /content/raw/PAQ_L.csv \n",
            "✅ Converted: /content/raw/VID_L.xpt → /content/raw/VID_L.csv \n",
            "✅ Converted: /content/raw/WHQ_L.xpt → /content/raw/WHQ_L.csv \n"
          ]
        }
      ]
    },
    {
      "cell_type": "code",
      "source": [
        "# converting single .xpt file to .csv\n",
        "library(haven)\n",
        "data <- read_xpt(\"/content/raw/DEMO_L.xpt\")\n",
        "write.csv(data, \"/content/raw/DEMO_L.csv\", row.names = FALSE)"
      ],
      "metadata": {
        "id": "zoJqmwojPgWI"
      },
      "execution_count": null,
      "outputs": []
    },
    {
      "cell_type": "code",
      "execution_count": 5,
      "metadata": {
        "id": "GK5IsFKQNWOW"
      },
      "outputs": [],
      "source": [
        "# Mapping urls\n",
        "demo = \"/content/raw/DEMO_L.csv\"\n",
        "bp = \"/content/raw/BPXO_L.csv\"\n",
        "vitd = \"/content/raw/VID_L.csv\"\n",
        "hepb = \"/content/raw/HEPB_S_L.csv\"\n",
        "kidney = \"/content/raw/KIQ_U_L.csv\"\n",
        "minbehavior = \"/content/raw/PAQ_L.csv\"\n",
        "weight = \"/content/raw/WHQ_L.csv\""
      ]
    },
    {
      "cell_type": "code",
      "source": [
        "demo1 = pd.read_csv(demo)\n",
        "print(demo1.head())"
      ],
      "metadata": {
        "id": "b6IMadaSYhVb",
        "colab": {
          "base_uri": "https://localhost:8080/"
        },
        "outputId": "84dc5ca6-8505-4793-c774-5fc5129574b0"
      },
      "execution_count": 6,
      "outputs": [
        {
          "output_type": "stream",
          "name": "stdout",
          "text": [
            "     SEQN  SDDSRVYR  RIDSTATR  RIAGENDR  RIDAGEYR  RIDAGEMN  RIDRETH1  \\\n",
            "0  130378        12         2         1        43       NaN         5   \n",
            "1  130379        12         2         1        66       NaN         3   \n",
            "2  130380        12         2         2        44       NaN         2   \n",
            "3  130381        12         2         2         5       NaN         5   \n",
            "4  130382        12         2         1         2       NaN         3   \n",
            "\n",
            "   RIDRETH3  RIDEXMON  RIDEXAGM  ...  DMDHRGND  DMDHRAGZ  DMDHREDZ  DMDHRMAZ  \\\n",
            "0         6       2.0       NaN  ...       NaN       NaN       NaN       NaN   \n",
            "1         3       2.0       NaN  ...       NaN       NaN       NaN       NaN   \n",
            "2         2       1.0       NaN  ...       NaN       NaN       NaN       NaN   \n",
            "3         7       1.0      71.0  ...       2.0       2.0       2.0       3.0   \n",
            "4         3       2.0      34.0  ...       2.0       2.0       3.0       1.0   \n",
            "\n",
            "   DMDHSEDZ      WTINT2YR      WTMEC2YR  SDMVSTRA  SDMVPSU  INDFMPIR  \n",
            "0       NaN  50055.450807  54374.463898       173        2      5.00  \n",
            "1       NaN  29087.450605  34084.721548       173        2      5.00  \n",
            "2       NaN  80062.674301  81196.277992       174        1      1.41  \n",
            "3       NaN  38807.268902  55698.607106       182        2      1.53  \n",
            "4       2.0  30607.519774  36434.146346       182        2      3.60  \n",
            "\n",
            "[5 rows x 27 columns]\n"
          ]
        }
      ]
    },
    {
      "cell_type": "code",
      "source": [
        "#removing duplicates\n",
        "demo1 = demo1.drop_duplicates()\n"
      ],
      "metadata": {
        "id": "qji20QjWYPQ5"
      },
      "execution_count": 7,
      "outputs": []
    },
    {
      "cell_type": "code",
      "source": [],
      "metadata": {
        "id": "toEcJIMFd2xo"
      },
      "execution_count": null,
      "outputs": []
    }
  ]
}