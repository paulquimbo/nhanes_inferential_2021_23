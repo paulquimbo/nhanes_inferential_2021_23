{
  "nbformat": 4,
  "nbformat_minor": 0,
  "metadata": {
    "colab": {
      "provenance": [],
      "authorship_tag": "ABX9TyPa5xfRYqJ6zvfODD+26dUw",
      "include_colab_link": true
    },
    "kernelspec": {
      "name": "ir",
      "display_name": "R"
    },
    "language_info": {
      "name": "R"
    }
  },
  "cells": [
    {
      "cell_type": "markdown",
      "metadata": {
        "id": "view-in-github",
        "colab_type": "text"
      },
      "source": [
        "<a href=\"https://colab.research.google.com/github/paulquimbo/nhanes_inferential_2021_23/blob/main/nhanes_inferential.ipynb\" target=\"_parent\"><img src=\"https://colab.research.google.com/assets/colab-badge.svg\" alt=\"Open In Colab\"/></a>"
      ]
    },
    {
      "cell_type": "code",
      "source": [
        "!pip install pyreadstat\n",
        "!pip install pandas\n"
      ],
      "metadata": {
        "colab": {
          "base_uri": "https://localhost:8080/"
        },
        "collapsed": true,
        "id": "zkj2-xB5PG6v",
        "outputId": "f4183767-3552-4449-d61a-9ad7a00813c8"
      },
      "execution_count": 13,
      "outputs": [
        {
          "output_type": "stream",
          "name": "stdout",
          "text": [
            "Requirement already satisfied: pyreadstat in /usr/local/lib/python3.12/dist-packages (1.3.1)\n",
            "Requirement already satisfied: narwhals>=1.47 in /usr/local/lib/python3.12/dist-packages (from pyreadstat) (2.6.0)\n",
            "Requirement already satisfied: numpy in /usr/local/lib/python3.12/dist-packages (from pyreadstat) (2.0.2)\n",
            "Requirement already satisfied: pandas in /usr/local/lib/python3.12/dist-packages (2.2.2)\n",
            "Requirement already satisfied: numpy>=1.26.0 in /usr/local/lib/python3.12/dist-packages (from pandas) (2.0.2)\n",
            "Requirement already satisfied: python-dateutil>=2.8.2 in /usr/local/lib/python3.12/dist-packages (from pandas) (2.9.0.post0)\n",
            "Requirement already satisfied: pytz>=2020.1 in /usr/local/lib/python3.12/dist-packages (from pandas) (2025.2)\n",
            "Requirement already satisfied: tzdata>=2022.7 in /usr/local/lib/python3.12/dist-packages (from pandas) (2025.2)\n",
            "Requirement already satisfied: six>=1.5 in /usr/local/lib/python3.12/dist-packages (from python-dateutil>=2.8.2->pandas) (1.17.0)\n"
          ]
        }
      ]
    },
    {
      "cell_type": "code",
      "source": [
        "import pyreadstat\n",
        "import pandas\n",
        "import os"
      ],
      "metadata": {
        "id": "Gm-k6lFyOmW5"
      },
      "execution_count": 15,
      "outputs": []
    },
    {
      "cell_type": "code",
      "source": [
        "#  checking for xpt file that are non readable with pyreadtat because of formatting issue\n",
        "folder = \"/content/raw/\"\n",
        "for file in os.listdir(folder):\n",
        "    if file.endswith(\".xpt\"):\n",
        "        path = os.path.join(folder, file)\n",
        "        try:\n",
        "            df, meta = pyreadstat.read_xport(path)\n",
        "            print(f\"✅ Loaded: {file}\")\n",
        "        except Exception as e:\n",
        "            print(f\"❌ Failed: {file} — {e}\")"
      ],
      "metadata": {
        "id": "ylcabwcKW7rs",
        "outputId": "ae73a4de-d908-4c6c-f31d-67d63ccf7f0b",
        "colab": {
          "base_uri": "https://localhost:8080/"
        }
      },
      "execution_count": 18,
      "outputs": [
        {
          "output_type": "stream",
          "name": "stdout",
          "text": [
            "✅ Loaded: VID_L.xpt\n",
            "✅ Loaded: HEPB_S_L.xpt\n",
            "✅ Loaded: PAQ_L.xpt\n",
            "❌ Failed: DEMO_L.xpt — 'utf-8' codec can't decode byte 0x92 in position 13: invalid start byte\n",
            "✅ Loaded: KIQ_U_L.xpt\n",
            "✅ Loaded: BPXO_L.xpt\n",
            "✅ Loaded: WHQ_L.xpt\n"
          ]
        }
      ]
    },
    {
      "cell_type": "code",
      "source": [
        "df, meta = pyreadstat.read_xport(demo)\n",
        "print(df.head())"
      ],
      "metadata": {
        "colab": {
          "base_uri": "https://localhost:8080/",
          "height": 263
        },
        "id": "bvpr2t4dPdZq",
        "outputId": "31941b84-3781-4949-ee63-01633bccac8d"
      },
      "execution_count": 19,
      "outputs": [
        {
          "output_type": "error",
          "ename": "UnicodeDecodeError",
          "evalue": "'utf-8' codec can't decode byte 0x92 in position 13: invalid start byte",
          "traceback": [
            "\u001b[0;31m---------------------------------------------------------------------------\u001b[0m",
            "\u001b[0;31mUnicodeDecodeError\u001b[0m                        Traceback (most recent call last)",
            "\u001b[0;32m/tmp/ipython-input-688101176.py\u001b[0m in \u001b[0;36m<cell line: 0>\u001b[0;34m()\u001b[0m\n\u001b[0;32m----> 1\u001b[0;31m \u001b[0mdf\u001b[0m\u001b[0;34m,\u001b[0m \u001b[0mmeta\u001b[0m \u001b[0;34m=\u001b[0m \u001b[0mpyreadstat\u001b[0m\u001b[0;34m.\u001b[0m\u001b[0mread_xport\u001b[0m\u001b[0;34m(\u001b[0m\u001b[0mdemo\u001b[0m\u001b[0;34m)\u001b[0m\u001b[0;34m\u001b[0m\u001b[0;34m\u001b[0m\u001b[0m\n\u001b[0m\u001b[1;32m      2\u001b[0m \u001b[0mprint\u001b[0m\u001b[0;34m(\u001b[0m\u001b[0mdf\u001b[0m\u001b[0;34m.\u001b[0m\u001b[0mhead\u001b[0m\u001b[0;34m(\u001b[0m\u001b[0;34m)\u001b[0m\u001b[0;34m)\u001b[0m\u001b[0;34m\u001b[0m\u001b[0;34m\u001b[0m\u001b[0m\n",
            "\u001b[0;32mpyreadstat/pyreadstat.pyx\u001b[0m in \u001b[0;36mpyreadstat.pyreadstat.read_xport\u001b[0;34m()\u001b[0m\n",
            "\u001b[0;32mpyreadstat/_readstat_parser.pyx\u001b[0m in \u001b[0;36mpyreadstat._readstat_parser.run_conversion\u001b[0;34m()\u001b[0m\n",
            "\u001b[0;32mpyreadstat/_readstat_parser.pyx\u001b[0m in \u001b[0;36mpyreadstat._readstat_parser.handle_variable\u001b[0;34m()\u001b[0m\n",
            "\u001b[0;31mUnicodeDecodeError\u001b[0m: 'utf-8' codec can't decode byte 0x92 in position 13: invalid start byte"
          ]
        }
      ]
    },
    {
      "cell_type": "code",
      "source": [],
      "metadata": {
        "id": "w_ybXWKzZjEV"
      },
      "execution_count": null,
      "outputs": []
    },
    {
      "cell_type": "code",
      "source": [
        "# Install haven (only needed once)\n",
        "install.packages(\"haven\")\n",
        "\n",
        "# Load the library\n",
        "library(haven)\n",
        "\n",
        "# Set folder path\n",
        "folder <- \"/content/raw\"\n",
        "\n",
        "# List all .xpt files\n",
        "xpt_files <- list.files(folder, pattern = \"\\\\.xpt$\", full.names = TRUE)\n",
        "\n",
        "# Loop through and convert each to .csv\n",
        "for (xpt_file in xpt_files) {\n",
        "  # Read .xpt file\n",
        "  data <- read_xpt(xpt_file)\n",
        "\n",
        "  # Create .csv filename\n",
        "  csv_file <- sub(\"\\\\.xpt$\", \".csv\", xpt_file)\n",
        "\n",
        "  # Write to CSV\n",
        "  write.csv(data, csv_file, row.names = FALSE)\n",
        "\n",
        "  cat(\"✅ Converted:\", xpt_file, \"→\", csv_file, \"\\n\")\n",
        "}"
      ],
      "metadata": {
        "id": "Y22x0sxZZLm-",
        "outputId": "ac708037-2fa3-4151-9d0e-a0522bde0b64",
        "colab": {
          "base_uri": "https://localhost:8080/"
        }
      },
      "execution_count": 2,
      "outputs": [
        {
          "output_type": "stream",
          "name": "stderr",
          "text": [
            "Installing package into ‘/usr/local/lib/R/site-library’\n",
            "(as ‘lib’ is unspecified)\n",
            "\n"
          ]
        },
        {
          "output_type": "stream",
          "name": "stdout",
          "text": [
            "✅ Converted: /content/raw/BPXO_L.xpt → /content/raw/BPXO_L.csv \n",
            "✅ Converted: /content/raw/DEMO_L.xpt → /content/raw/DEMO_L.csv \n",
            "✅ Converted: /content/raw/HEPB_S_L.xpt → /content/raw/HEPB_S_L.csv \n",
            "✅ Converted: /content/raw/KIQ_U_L.xpt → /content/raw/KIQ_U_L.csv \n",
            "✅ Converted: /content/raw/PAQ_L.xpt → /content/raw/PAQ_L.csv \n",
            "✅ Converted: /content/raw/VID_L.xpt → /content/raw/VID_L.csv \n",
            "✅ Converted: /content/raw/WHQ_L.xpt → /content/raw/WHQ_L.csv \n"
          ]
        }
      ]
    },
    {
      "cell_type": "code",
      "execution_count": 17,
      "metadata": {
        "id": "GK5IsFKQNWOW"
      },
      "outputs": [],
      "source": [
        "# Mapping urls\n",
        "demo = \"/content/raw/DEMO_L.csv\"\n",
        "bp = \"/content/raw/BPXO_L.csv\"\n",
        "vitd = \"/content/raw/VID_L.csv\"\n",
        "hepb = \"/content/raw/HEPB_S_L.csv\"\n",
        "kidney = \"/content/raw/KIQ_U_L.csv\"\n",
        "minbehavior = \"/content/raw/PAQ_L.csv\"\n",
        "weight = \"/content/raw/WHQ_L.csv\""
      ]
    },
    {
      "cell_type": "code",
      "source": [
        "# Using R to convent xpt to csv\n",
        "library(haven)\n",
        "data <- read_xpt(\"/content/raw/DEMO_L.xpt\")\n",
        "write.csv(data, \"/content/raw/DEMO_L.csv\", row.names = FALSE)"
      ],
      "metadata": {
        "id": "zoJqmwojPgWI"
      },
      "execution_count": 1,
      "outputs": []
    },
    {
      "cell_type": "code",
      "source": [],
      "metadata": {
        "id": "b6IMadaSYhVb"
      },
      "execution_count": null,
      "outputs": []
    },
    {
      "cell_type": "code",
      "source": [],
      "metadata": {
        "id": "qji20QjWYPQ5"
      },
      "execution_count": null,
      "outputs": []
    }
  ]
}