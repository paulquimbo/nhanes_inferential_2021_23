{
  "nbformat": 4,
  "nbformat_minor": 0,
  "metadata": {
    "colab": {
      "provenance": [],
      "authorship_tag": "ABX9TyM1YeVfvlhmTliGSUdBnuHW"
    },
    "kernelspec": {
      "name": "python3",
      "display_name": "Python 3"
    },
    "language_info": {
      "name": "python"
    }
  },
  "cells": [
    {
      "cell_type": "code",
      "source": [
        "!pip install pyreadstat\n",
        "!pip install pandas\n",
        "!pip install request\n",
        "!pip install seaborn\n",
        "!pip install scipy\n",
        "!pip install matplotlib"
      ],
      "metadata": {
        "collapsed": true,
        "id": "zkj2-xB5PG6v",
        "colab": {
          "base_uri": "https://localhost:8080/"
        },
        "outputId": "d92cbdf4-d5d1-4041-8188-5a4e02026828"
      },
      "execution_count": 2,
      "outputs": [
        {
          "output_type": "stream",
          "name": "stdout",
          "text": [
            "Requirement already satisfied: pyreadstat in /usr/local/lib/python3.12/dist-packages (1.3.1)\n",
            "Requirement already satisfied: narwhals>=1.47 in /usr/local/lib/python3.12/dist-packages (from pyreadstat) (2.7.0)\n",
            "Requirement already satisfied: numpy in /usr/local/lib/python3.12/dist-packages (from pyreadstat) (2.0.2)\n",
            "Requirement already satisfied: pandas in /usr/local/lib/python3.12/dist-packages (2.2.2)\n",
            "Requirement already satisfied: numpy>=1.26.0 in /usr/local/lib/python3.12/dist-packages (from pandas) (2.0.2)\n",
            "Requirement already satisfied: python-dateutil>=2.8.2 in /usr/local/lib/python3.12/dist-packages (from pandas) (2.9.0.post0)\n",
            "Requirement already satisfied: pytz>=2020.1 in /usr/local/lib/python3.12/dist-packages (from pandas) (2025.2)\n",
            "Requirement already satisfied: tzdata>=2022.7 in /usr/local/lib/python3.12/dist-packages (from pandas) (2025.2)\n",
            "Requirement already satisfied: six>=1.5 in /usr/local/lib/python3.12/dist-packages (from python-dateutil>=2.8.2->pandas) (1.17.0)\n",
            "\u001b[31mERROR: Could not find a version that satisfies the requirement request (from versions: none)\u001b[0m\u001b[31m\n",
            "\u001b[0m\u001b[31mERROR: No matching distribution found for request\u001b[0m\u001b[31m\n",
            "\u001b[0mRequirement already satisfied: seaborn in /usr/local/lib/python3.12/dist-packages (0.13.2)\n",
            "Requirement already satisfied: numpy!=1.24.0,>=1.20 in /usr/local/lib/python3.12/dist-packages (from seaborn) (2.0.2)\n",
            "Requirement already satisfied: pandas>=1.2 in /usr/local/lib/python3.12/dist-packages (from seaborn) (2.2.2)\n",
            "Requirement already satisfied: matplotlib!=3.6.1,>=3.4 in /usr/local/lib/python3.12/dist-packages (from seaborn) (3.10.0)\n",
            "Requirement already satisfied: contourpy>=1.0.1 in /usr/local/lib/python3.12/dist-packages (from matplotlib!=3.6.1,>=3.4->seaborn) (1.3.3)\n",
            "Requirement already satisfied: cycler>=0.10 in /usr/local/lib/python3.12/dist-packages (from matplotlib!=3.6.1,>=3.4->seaborn) (0.12.1)\n",
            "Requirement already satisfied: fonttools>=4.22.0 in /usr/local/lib/python3.12/dist-packages (from matplotlib!=3.6.1,>=3.4->seaborn) (4.60.1)\n",
            "Requirement already satisfied: kiwisolver>=1.3.1 in /usr/local/lib/python3.12/dist-packages (from matplotlib!=3.6.1,>=3.4->seaborn) (1.4.9)\n",
            "Requirement already satisfied: packaging>=20.0 in /usr/local/lib/python3.12/dist-packages (from matplotlib!=3.6.1,>=3.4->seaborn) (25.0)\n",
            "Requirement already satisfied: pillow>=8 in /usr/local/lib/python3.12/dist-packages (from matplotlib!=3.6.1,>=3.4->seaborn) (11.3.0)\n",
            "Requirement already satisfied: pyparsing>=2.3.1 in /usr/local/lib/python3.12/dist-packages (from matplotlib!=3.6.1,>=3.4->seaborn) (3.2.5)\n",
            "Requirement already satisfied: python-dateutil>=2.7 in /usr/local/lib/python3.12/dist-packages (from matplotlib!=3.6.1,>=3.4->seaborn) (2.9.0.post0)\n",
            "Requirement already satisfied: pytz>=2020.1 in /usr/local/lib/python3.12/dist-packages (from pandas>=1.2->seaborn) (2025.2)\n",
            "Requirement already satisfied: tzdata>=2022.7 in /usr/local/lib/python3.12/dist-packages (from pandas>=1.2->seaborn) (2025.2)\n",
            "Requirement already satisfied: six>=1.5 in /usr/local/lib/python3.12/dist-packages (from python-dateutil>=2.7->matplotlib!=3.6.1,>=3.4->seaborn) (1.17.0)\n",
            "Requirement already satisfied: scipy in /usr/local/lib/python3.12/dist-packages (1.16.2)\n",
            "Requirement already satisfied: numpy<2.6,>=1.25.2 in /usr/local/lib/python3.12/dist-packages (from scipy) (2.0.2)\n",
            "Requirement already satisfied: matplotlib in /usr/local/lib/python3.12/dist-packages (3.10.0)\n",
            "Requirement already satisfied: contourpy>=1.0.1 in /usr/local/lib/python3.12/dist-packages (from matplotlib) (1.3.3)\n",
            "Requirement already satisfied: cycler>=0.10 in /usr/local/lib/python3.12/dist-packages (from matplotlib) (0.12.1)\n",
            "Requirement already satisfied: fonttools>=4.22.0 in /usr/local/lib/python3.12/dist-packages (from matplotlib) (4.60.1)\n",
            "Requirement already satisfied: kiwisolver>=1.3.1 in /usr/local/lib/python3.12/dist-packages (from matplotlib) (1.4.9)\n",
            "Requirement already satisfied: numpy>=1.23 in /usr/local/lib/python3.12/dist-packages (from matplotlib) (2.0.2)\n",
            "Requirement already satisfied: packaging>=20.0 in /usr/local/lib/python3.12/dist-packages (from matplotlib) (25.0)\n",
            "Requirement already satisfied: pillow>=8 in /usr/local/lib/python3.12/dist-packages (from matplotlib) (11.3.0)\n",
            "Requirement already satisfied: pyparsing>=2.3.1 in /usr/local/lib/python3.12/dist-packages (from matplotlib) (3.2.5)\n",
            "Requirement already satisfied: python-dateutil>=2.7 in /usr/local/lib/python3.12/dist-packages (from matplotlib) (2.9.0.post0)\n",
            "Requirement already satisfied: six>=1.5 in /usr/local/lib/python3.12/dist-packages (from python-dateutil>=2.7->matplotlib) (1.17.0)\n"
          ]
        }
      ]
    },
    {
      "cell_type": "code",
      "source": [
        "import numpy as np\n",
        "from scipy.stats import chi2_contingency, f_oneway\n",
        "import matplotlib.pyplot as plt\n",
        "import seaborn as sns\n",
        "import pandas as pd\n",
        "import pyreadstat\n",
        "import os"
      ],
      "metadata": {
        "id": "Gm-k6lFyOmW5"
      },
      "execution_count": 10,
      "outputs": []
    },
    {
      "cell_type": "code",
      "source": [
        "#  checking for xpt file that are non readable with pyreadtat because of formatting issue\n",
        "folder = \"/content/raw/\"\n",
        "for file in os.listdir(folder):\n",
        "    if file.endswith(\".xpt\"):\n",
        "        path = os.path.join(folder, file)\n",
        "        try:\n",
        "            df, meta = pyreadstat.read_xport(path)\n",
        "            print(f\"✅ Loaded: {file}\")\n",
        "        except Exception as e:\n",
        "            print(f\"❌ Failed: {file} — {e}\")"
      ],
      "metadata": {
        "id": "ylcabwcKW7rs",
        "outputId": "4fa7d740-472c-42d5-fff5-1b4d0c62e494",
        "colab": {
          "base_uri": "https://localhost:8080/"
        }
      },
      "execution_count": 11,
      "outputs": [
        {
          "output_type": "stream",
          "name": "stdout",
          "text": [
            "✅ Loaded: WHQ_L.xpt\n",
            "✅ Loaded: BPXO_L.xpt\n",
            "✅ Loaded: KIQ_U_L.xpt\n",
            "✅ Loaded: VID_L.xpt\n",
            "❌ Failed: DEMO_L.xpt — 'utf-8' codec can't decode byte 0x92 in position 13: invalid start byte\n",
            "✅ Loaded: HEPB_S_L.xpt\n",
            "✅ Loaded: PAQ_L.xpt\n",
            "✅ Loaded: DPQ_L.xpt\n"
          ]
        }
      ]
    },
    {
      "cell_type": "code",
      "source": [
        "# attempted to use pyreadstat to read xpt file\n",
        "# the  file has invalid type of formatting\n",
        "# tried multiple scripts but gives me more issues.\n",
        "df, meta = pyreadstat.read_xport(\"/content/raw/DEMO_L.xpt\")\n",
        "print(df.head())"
      ],
      "metadata": {
        "id": "pEeHDyvx8hlI",
        "outputId": "5b5905b2-c321-4192-c21c-01e4bba5f366",
        "colab": {
          "base_uri": "https://localhost:8080/",
          "height": 297
        }
      },
      "execution_count": 12,
      "outputs": [
        {
          "output_type": "error",
          "ename": "UnicodeDecodeError",
          "evalue": "'utf-8' codec can't decode byte 0x92 in position 13: invalid start byte",
          "traceback": [
            "\u001b[0;31m---------------------------------------------------------------------------\u001b[0m",
            "\u001b[0;31mUnicodeDecodeError\u001b[0m                        Traceback (most recent call last)",
            "\u001b[0;32m/tmp/ipython-input-3458139792.py\u001b[0m in \u001b[0;36m<cell line: 0>\u001b[0;34m()\u001b[0m\n\u001b[1;32m      2\u001b[0m \u001b[0;31m# the  file has invalid type of formatting\u001b[0m\u001b[0;34m\u001b[0m\u001b[0;34m\u001b[0m\u001b[0m\n\u001b[1;32m      3\u001b[0m \u001b[0;31m# tried multiple scripts but gives me more issues.\u001b[0m\u001b[0;34m\u001b[0m\u001b[0;34m\u001b[0m\u001b[0m\n\u001b[0;32m----> 4\u001b[0;31m \u001b[0mdf\u001b[0m\u001b[0;34m,\u001b[0m \u001b[0mmeta\u001b[0m \u001b[0;34m=\u001b[0m \u001b[0mpyreadstat\u001b[0m\u001b[0;34m.\u001b[0m\u001b[0mread_xport\u001b[0m\u001b[0;34m(\u001b[0m\u001b[0;34m\"/content/raw/DEMO_L.xpt\"\u001b[0m\u001b[0;34m)\u001b[0m\u001b[0;34m\u001b[0m\u001b[0;34m\u001b[0m\u001b[0m\n\u001b[0m\u001b[1;32m      5\u001b[0m \u001b[0mprint\u001b[0m\u001b[0;34m(\u001b[0m\u001b[0mdf\u001b[0m\u001b[0;34m.\u001b[0m\u001b[0mhead\u001b[0m\u001b[0;34m(\u001b[0m\u001b[0;34m)\u001b[0m\u001b[0;34m)\u001b[0m\u001b[0;34m\u001b[0m\u001b[0;34m\u001b[0m\u001b[0m\n",
            "\u001b[0;32mpyreadstat/pyreadstat.pyx\u001b[0m in \u001b[0;36mpyreadstat.pyreadstat.read_xport\u001b[0;34m()\u001b[0m\n",
            "\u001b[0;32mpyreadstat/_readstat_parser.pyx\u001b[0m in \u001b[0;36mpyreadstat._readstat_parser.run_conversion\u001b[0;34m()\u001b[0m\n",
            "\u001b[0;32mpyreadstat/_readstat_parser.pyx\u001b[0m in \u001b[0;36mpyreadstat._readstat_parser.handle_variable\u001b[0;34m()\u001b[0m\n",
            "\u001b[0;31mUnicodeDecodeError\u001b[0m: 'utf-8' codec can't decode byte 0x92 in position 13: invalid start byte"
          ]
        }
      ]
    },
    {
      "cell_type": "code",
      "source": [
        "# gave up on converting to change formatting issue in the xpt file and tried to use R instead"
      ],
      "metadata": {
        "id": "bvpr2t4dPdZq"
      },
      "execution_count": 13,
      "outputs": []
    },
    {
      "cell_type": "code",
      "source": [
        "# Using R to convert xpt to csv\n",
        "# Change Runtime Type to R, prior to doing the script below\n",
        "# Installing haven (only needed once)\n",
        "install.packages(\"haven\")"
      ],
      "metadata": {
        "id": "P8nR38M4aEh1",
        "outputId": "fe99248c-48fd-4fa1-ef9d-e91bfeb95bce",
        "colab": {
          "base_uri": "https://localhost:8080/"
        },
        "collapsed": true
      },
      "execution_count": null,
      "outputs": [
        {
          "output_type": "stream",
          "name": "stderr",
          "text": [
            "Installing package into ‘/usr/local/lib/R/site-library’\n",
            "(as ‘lib’ is unspecified)\n",
            "\n"
          ]
        }
      ]
    },
    {
      "cell_type": "code",
      "source": [
        "# Converting single .xpt file to .csv\n",
        "library(haven)\n",
        "data <- read_xpt(\"/content/raw/DPQ_L.xpt\")\n",
        "write.csv(data, \"/content/raw/DPQ_L.csv\", row.names = FALSE)"
      ],
      "metadata": {
        "id": "zoJqmwojPgWI"
      },
      "execution_count": null,
      "outputs": []
    },
    {
      "cell_type": "code",
      "source": [
        "# Load the library\n",
        "library(haven)\n",
        "\n",
        "# Set folder path\n",
        "folder <- \"/content/raw\""
      ],
      "metadata": {
        "id": "9FrlvYK6aK3y"
      },
      "execution_count": null,
      "outputs": []
    },
    {
      "cell_type": "code",
      "source": [
        "\n",
        "# Converting all .xpt files to .csv\n",
        "\n",
        "# List all .xpt files\n",
        "xpt_files <- list.files(folder, pattern = \"\\\\.xpt$\", full.names = TRUE)\n",
        "\n",
        "# Loop through and convert each to .csv\n",
        "for (xpt_file in xpt_files) {\n",
        "  # Read .xpt file\n",
        "  data <- read_xpt(xpt_file)\n",
        "\n",
        "  # Create .csv filename\n",
        "  csv_file <- sub(\"\\\\.xpt$\", \".csv\", xpt_file)\n",
        "\n",
        "  # Write to CSV\n",
        "  write.csv(data, csv_file, row.names = FALSE)\n",
        "\n",
        "  cat(\"✅ Converted:\", xpt_file, \"→\", csv_file, \"\\n\")\n",
        "}"
      ],
      "metadata": {
        "id": "Y22x0sxZZLm-",
        "outputId": "7dec449f-d840-4836-8a7d-b51fffff3801",
        "colab": {
          "base_uri": "https://localhost:8080/"
        }
      },
      "execution_count": null,
      "outputs": [
        {
          "output_type": "stream",
          "name": "stdout",
          "text": [
            "✅ Converted: /content/raw/BPXO_L.xpt → /content/raw/BPXO_L.csv \n",
            "✅ Converted: /content/raw/DEMO_L.xpt → /content/raw/DEMO_L.csv \n",
            "✅ Converted: /content/raw/HEPB_S_L.xpt → /content/raw/HEPB_S_L.csv \n",
            "✅ Converted: /content/raw/KIQ_U_L.xpt → /content/raw/KIQ_U_L.csv \n",
            "✅ Converted: /content/raw/PAQ_L.xpt → /content/raw/PAQ_L.csv \n",
            "✅ Converted: /content/raw/VID_L.xpt → /content/raw/VID_L.csv \n",
            "✅ Converted: /content/raw/WHQ_L.xpt → /content/raw/WHQ_L.csv \n"
          ]
        }
      ]
    },
    {
      "cell_type": "code",
      "execution_count": 17,
      "metadata": {
        "id": "GK5IsFKQNWOW"
      },
      "outputs": [],
      "source": [
        "# Change Runtime Type back to Python prior to scripts below\n",
        "# Mapping urls\n",
        "demo = pd.read_csv(\"/content/raw/DEMO_L.csv\")\n",
        "bp = pd.read_csv(\"/content/raw/BPXO_L.csv\")\n",
        "vitd = pd.read_csv(\"/content/raw/VID_L.csv\")\n",
        "hepb = pd.read_csv(\"/content/raw/HEPB_S_L.csv\")\n",
        "kidney = pd.read_csv(\"/content/raw/KIQ_U_L.csv\")\n",
        "minbehavior = pd.read_csv(\"/content/raw/PAQ_L.csv\")\n",
        "weight = pd.read_csv(\"/content/raw/WHQ_L.csv\")\n",
        "mental = pd.read_csv(\"/content/raw/DPQ_L.csv\")"
      ]
    },
    {
      "cell_type": "code",
      "source": [
        "## Analysis 1:## Analysis 1: Chi-square test between marital status and education level\n",
        "# Step 1: Select and clean relevant columns\n",
        "Analysis1 = (\n",
        "    demo[['DMDMARTZ', 'DMDEDUC2']]\n",
        "    .drop_duplicates()\n",
        "    .query(\"DMDMARTZ.notna() and DMDEDUC2.notna()\")\n",
        "    .query(\"DMDMARTZ not in [77, 99] and DMDEDUC2 not in [7, 9]\")\n",
        ")\n",
        "\n",
        "# Step 2: Recode categories\n",
        "marital_map = {1: 'Married', 2: 'Widowed/Divorced/Separated', 3: 'Single'}\n",
        "Analysis1['MaritalStatus'] = Analysis1['DMDMARTZ'].map(marital_map)\n",
        "\n",
        "Analysis1['EducLevel'] = Analysis1['DMDEDUC2'].apply(\n",
        "    lambda x: 'Bachelor or Higher' if x == 5 else 'Less than Bachelor'\n",
        ")\n",
        "\n",
        "# Step 3: Drop rows with missing recodes\n",
        "filtered = Analysis1[['MaritalStatus', 'EducLevel']].dropna()\n",
        "\n",
        "# Step 4: Contingency table and chi-square test\n",
        "contingency_table = pd.crosstab(filtered['MaritalStatus'], filtered['EducLevel'])\n",
        "chi2, p, dof, expected = chi2_contingency(contingency_table)\n",
        "\n",
        "# Step 5: Output results\n",
        "print(\"Contingency Table:\\n\", contingency_table)\n",
        "print(f\"\\nChi-square Statistic: {chi2:.2f}\")\n",
        "print(f\"Degrees of Freedom: {dof}\")\n",
        "print(f\"P-value: {p:.4f}\")\n",
        "\n",
        "# Interpretation\n",
        "if p < 0.05:\n",
        "    print(\"\\n✅ Statistically significant association between marital status and education level.\")\n",
        "else:\n",
        "    print(\"\\n❌ No statistically significant association found.\")"
      ],
      "metadata": {
        "id": "Rr91oKFSHoVD",
        "colab": {
          "base_uri": "https://localhost:8080/"
        },
        "outputId": "b40e1aa7-dc8f-4a9c-c56f-164a04403f96"
      },
      "execution_count": 20,
      "outputs": [
        {
          "output_type": "stream",
          "name": "stdout",
          "text": [
            "Contingency Table:\n",
            " EducLevel                   Bachelor or Higher  Less than Bachelor\n",
            "MaritalStatus                                                     \n",
            "Married                                      1                   4\n",
            "Single                                       1                   4\n",
            "Widowed/Divorced/Separated                   1                   4\n",
            "\n",
            "Chi-square Statistic: 0.00\n",
            "Degrees of Freedom: 2\n",
            "P-value: 1.0000\n",
            "\n",
            "❌ No statistically significant association found.\n"
          ]
        }
      ]
    },
    {
      "cell_type": "code",
      "source": [
        "# Step 6: Visualization (replace with actual counts if needed)\n",
        "categories = contingency_table.index.tolist()\n",
        "bachelor_counts = contingency_table['Bachelor or Higher'].tolist()\n",
        "less_bachelor_counts = contingency_table['Less than Bachelor'].tolist()\n",
        "\n",
        "x = np.arange(len(categories))\n",
        "width = 0.35\n",
        "\n",
        "fig, ax = plt.subplots(figsize=(8, 6))\n",
        "ax.bar(x - width/2, bachelor_counts, width, label='Bachelor or Higher', color='skyblue')\n",
        "ax.bar(x + width/2, less_bachelor_counts, width, label='Less than Bachelor', color='salmon')\n",
        "\n",
        "ax.set_xlabel('Marital Status')\n",
        "ax.set_ylabel('Number of Individuals')\n",
        "ax.set_title('Education Level by Marital Status')\n",
        "ax.set_xticks(x)\n",
        "ax.set_xticklabels(categories)\n",
        "ax.legend()\n",
        "\n",
        "plt.tight_layout()\n",
        "plt.show()"
      ],
      "metadata": {
        "id": "QiYCLXnBnIby",
        "outputId": "b490bff2-f29f-40bc-ecd2-4e35781383e9",
        "colab": {
          "base_uri": "https://localhost:8080/",
          "height": 607
        }
      },
      "execution_count": 19,
      "outputs": [
        {
          "output_type": "display_data",
          "data": {
            "text/plain": [
              "<Figure size 800x600 with 1 Axes>"
            ],
            "image/png": "[encoded data removed]"
          },
          "metadata": {}
        }
      ]
    }
  ]
}