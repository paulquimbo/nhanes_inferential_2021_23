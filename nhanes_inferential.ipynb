{
  "nbformat": 4,
  "nbformat_minor": 0,
  "metadata": {
    "colab": {
      "provenance": [],
      "authorship_tag": "ABX9TyM8xex+Lhci236hlDevbWiQ"
    },
    "kernelspec": {
      "name": "python3",
      "display_name": "Python 3"
    },
    "language_info": {
      "name": "python"
    }
  },
  "cells": [
    {
      "cell_type": "code",
      "source": [
        "!pip install pyreadstat\n",
        "!pip install pandas\n"
      ],
      "metadata": {
        "colab": {
          "base_uri": "https://localhost:8080/"
        },
        "collapsed": true,
        "id": "zkj2-xB5PG6v",
        "outputId": "f2588e81-88cf-4bcb-e93e-b3b49ecb5b64"
      },
      "execution_count": 3,
      "outputs": [
        {
          "output_type": "stream",
          "name": "stdout",
          "text": [
            "Collecting pyreadstat\n",
            "  Downloading pyreadstat-1.3.1-cp312-cp312-manylinux2014_x86_64.manylinux_2_17_x86_64.whl.metadata (1.2 kB)\n",
            "Requirement already satisfied: narwhals>=1.47 in /usr/local/lib/python3.12/dist-packages (from pyreadstat) (2.6.0)\n",
            "Requirement already satisfied: numpy in /usr/local/lib/python3.12/dist-packages (from pyreadstat) (2.0.2)\n",
            "Downloading pyreadstat-1.3.1-cp312-cp312-manylinux2014_x86_64.manylinux_2_17_x86_64.whl (666 kB)\n",
            "\u001b[2K   \u001b[90m━━━━━━━━━━━━━━━━━━━━━━━━━━━━━━━━━━━━━━━━\u001b[0m \u001b[32m666.4/666.4 kB\u001b[0m \u001b[31m7.8 MB/s\u001b[0m eta \u001b[36m0:00:00\u001b[0m\n",
            "\u001b[?25hInstalling collected packages: pyreadstat\n",
            "Successfully installed pyreadstat-1.3.1\n",
            "Requirement already satisfied: pandas in /usr/local/lib/python3.12/dist-packages (2.2.2)\n",
            "Requirement already satisfied: numpy>=1.26.0 in /usr/local/lib/python3.12/dist-packages (from pandas) (2.0.2)\n",
            "Requirement already satisfied: python-dateutil>=2.8.2 in /usr/local/lib/python3.12/dist-packages (from pandas) (2.9.0.post0)\n",
            "Requirement already satisfied: pytz>=2020.1 in /usr/local/lib/python3.12/dist-packages (from pandas) (2025.2)\n",
            "Requirement already satisfied: tzdata>=2022.7 in /usr/local/lib/python3.12/dist-packages (from pandas) (2025.2)\n",
            "Requirement already satisfied: six>=1.5 in /usr/local/lib/python3.12/dist-packages (from python-dateutil>=2.8.2->pandas) (1.17.0)\n"
          ]
        }
      ]
    },
    {
      "cell_type": "code",
      "source": [
        "import pyreadstat\n",
        "import pandas as pd\n",
        "import os"
      ],
      "metadata": {
        "id": "Gm-k6lFyOmW5"
      },
      "execution_count": 4,
      "outputs": []
    },
    {
      "cell_type": "code",
      "source": [
        "# attempted to use pyreadstat to read xpt file\n",
        "# the  file has invalid type of formatting\n",
        "df, meta = pyreadstat.read_xport(\"/content/raw/DEMO_L.xpt\")\n",
        "print(df.head())"
      ],
      "metadata": {
        "id": "pEeHDyvx8hlI",
        "outputId": "27982959-5a5e-4b50-a185-0b2d033e479f",
        "colab": {
          "base_uri": "https://localhost:8080/",
          "height": 280
        }
      },
      "execution_count": 9,
      "outputs": [
        {
          "output_type": "error",
          "ename": "UnicodeDecodeError",
          "evalue": "'utf-8' codec can't decode byte 0x92 in position 13: invalid start byte",
          "traceback": [
            "\u001b[0;31m---------------------------------------------------------------------------\u001b[0m",
            "\u001b[0;31mUnicodeDecodeError\u001b[0m                        Traceback (most recent call last)",
            "\u001b[0;32m/tmp/ipython-input-2552614624.py\u001b[0m in \u001b[0;36m<cell line: 0>\u001b[0;34m()\u001b[0m\n\u001b[1;32m      1\u001b[0m \u001b[0;31m# attempted to use pyreadstat to read xpt file\u001b[0m\u001b[0;34m\u001b[0m\u001b[0;34m\u001b[0m\u001b[0m\n\u001b[0;32m----> 2\u001b[0;31m \u001b[0mdf\u001b[0m\u001b[0;34m,\u001b[0m \u001b[0mmeta\u001b[0m \u001b[0;34m=\u001b[0m \u001b[0mpyreadstat\u001b[0m\u001b[0;34m.\u001b[0m\u001b[0mread_xport\u001b[0m\u001b[0;34m(\u001b[0m\u001b[0;34m\"/content/raw/DEMO_L.xpt\"\u001b[0m\u001b[0;34m)\u001b[0m\u001b[0;34m\u001b[0m\u001b[0;34m\u001b[0m\u001b[0m\n\u001b[0m\u001b[1;32m      3\u001b[0m \u001b[0mprint\u001b[0m\u001b[0;34m(\u001b[0m\u001b[0mdf\u001b[0m\u001b[0;34m.\u001b[0m\u001b[0mhead\u001b[0m\u001b[0;34m(\u001b[0m\u001b[0;34m)\u001b[0m\u001b[0;34m)\u001b[0m\u001b[0;34m\u001b[0m\u001b[0;34m\u001b[0m\u001b[0m\n",
            "\u001b[0;32mpyreadstat/pyreadstat.pyx\u001b[0m in \u001b[0;36mpyreadstat.pyreadstat.read_xport\u001b[0;34m()\u001b[0m\n",
            "\u001b[0;32mpyreadstat/_readstat_parser.pyx\u001b[0m in \u001b[0;36mpyreadstat._readstat_parser.run_conversion\u001b[0;34m()\u001b[0m\n",
            "\u001b[0;32mpyreadstat/_readstat_parser.pyx\u001b[0m in \u001b[0;36mpyreadstat._readstat_parser.handle_variable\u001b[0;34m()\u001b[0m\n",
            "\u001b[0;31mUnicodeDecodeError\u001b[0m: 'utf-8' codec can't decode byte 0x92 in position 13: invalid start byte"
          ]
        }
      ]
    },
    {
      "cell_type": "code",
      "source": [
        "#  checking for xpt file that are non readable with pyreadtat because of formatting issue\n",
        "folder = \"/content/raw/\"\n",
        "for file in os.listdir(folder):\n",
        "    if file.endswith(\".xpt\"):\n",
        "        path = os.path.join(folder, file)\n",
        "        try:\n",
        "            df, meta = pyreadstat.read_xport(path)\n",
        "            print(f\"✅ Loaded: {file}\")\n",
        "        except Exception as e:\n",
        "            print(f\"❌ Failed: {file} — {e}\")"
      ],
      "metadata": {
        "id": "ylcabwcKW7rs",
        "outputId": "ae73a4de-d908-4c6c-f31d-67d63ccf7f0b",
        "colab": {
          "base_uri": "https://localhost:8080/"
        }
      },
      "execution_count": null,
      "outputs": [
        {
          "output_type": "stream",
          "name": "stdout",
          "text": [
            "✅ Loaded: VID_L.xpt\n",
            "✅ Loaded: HEPB_S_L.xpt\n",
            "✅ Loaded: PAQ_L.xpt\n",
            "❌ Failed: DEMO_L.xpt — 'utf-8' codec can't decode byte 0x92 in position 13: invalid start byte\n",
            "✅ Loaded: KIQ_U_L.xpt\n",
            "✅ Loaded: BPXO_L.xpt\n",
            "✅ Loaded: WHQ_L.xpt\n"
          ]
        }
      ]
    },
    {
      "cell_type": "code",
      "source": [
        "# gave up on converting to change formatting issue in the xpt file and tried to use R instead"
      ],
      "metadata": {
        "colab": {
          "base_uri": "https://localhost:8080/",
          "height": 263
        },
        "id": "bvpr2t4dPdZq",
        "outputId": "31941b84-3781-4949-ee63-01633bccac8d"
      },
      "execution_count": null,
      "outputs": [
        {
          "output_type": "error",
          "ename": "UnicodeDecodeError",
          "evalue": "'utf-8' codec can't decode byte 0x92 in position 13: invalid start byte",
          "traceback": [
            "\u001b[0;31m---------------------------------------------------------------------------\u001b[0m",
            "\u001b[0;31mUnicodeDecodeError\u001b[0m                        Traceback (most recent call last)",
            "\u001b[0;32m/tmp/ipython-input-688101176.py\u001b[0m in \u001b[0;36m<cell line: 0>\u001b[0;34m()\u001b[0m\n\u001b[0;32m----> 1\u001b[0;31m \u001b[0mdf\u001b[0m\u001b[0;34m,\u001b[0m \u001b[0mmeta\u001b[0m \u001b[0;34m=\u001b[0m \u001b[0mpyreadstat\u001b[0m\u001b[0;34m.\u001b[0m\u001b[0mread_xport\u001b[0m\u001b[0;34m(\u001b[0m\u001b[0mdemo\u001b[0m\u001b[0;34m)\u001b[0m\u001b[0;34m\u001b[0m\u001b[0;34m\u001b[0m\u001b[0m\n\u001b[0m\u001b[1;32m      2\u001b[0m \u001b[0mprint\u001b[0m\u001b[0;34m(\u001b[0m\u001b[0mdf\u001b[0m\u001b[0;34m.\u001b[0m\u001b[0mhead\u001b[0m\u001b[0;34m(\u001b[0m\u001b[0;34m)\u001b[0m\u001b[0;34m)\u001b[0m\u001b[0;34m\u001b[0m\u001b[0;34m\u001b[0m\u001b[0m\n",
            "\u001b[0;32mpyreadstat/pyreadstat.pyx\u001b[0m in \u001b[0;36mpyreadstat.pyreadstat.read_xport\u001b[0;34m()\u001b[0m\n",
            "\u001b[0;32mpyreadstat/_readstat_parser.pyx\u001b[0m in \u001b[0;36mpyreadstat._readstat_parser.run_conversion\u001b[0;34m()\u001b[0m\n",
            "\u001b[0;32mpyreadstat/_readstat_parser.pyx\u001b[0m in \u001b[0;36mpyreadstat._readstat_parser.handle_variable\u001b[0;34m()\u001b[0m\n",
            "\u001b[0;31mUnicodeDecodeError\u001b[0m: 'utf-8' codec can't decode byte 0x92 in position 13: invalid start byte"
          ]
        }
      ]
    },
    {
      "cell_type": "code",
      "source": [
        "# Using R to convert xpt to csv\n",
        "# Change Runtime Type to R, prior to doing the script below\n",
        "# Installing haven (only needed once)\n",
        "install.packages(\"haven\")"
      ],
      "metadata": {
        "id": "P8nR38M4aEh1",
        "outputId": "12a00d39-006c-481f-cba2-ef4a4848b9bf",
        "colab": {
          "base_uri": "https://localhost:8080/"
        }
      },
      "execution_count": 1,
      "outputs": [
        {
          "output_type": "stream",
          "name": "stderr",
          "text": [
            "Installing package into ‘/usr/local/lib/R/site-library’\n",
            "(as ‘lib’ is unspecified)\n",
            "\n"
          ]
        }
      ]
    },
    {
      "cell_type": "code",
      "source": [
        "# Load the library\n",
        "library(haven)\n",
        "\n",
        "# Set folder path\n",
        "folder <- \"/content/raw\""
      ],
      "metadata": {
        "id": "9FrlvYK6aK3y"
      },
      "execution_count": 2,
      "outputs": []
    },
    {
      "cell_type": "code",
      "source": [
        "# Converting single .xpt file to .csv\n",
        "library(haven)\n",
        "data <- read_xpt(\"/content/raw/DEMO_L.xpt\")\n",
        "write.csv(data, \"/content/raw/DEMO_L.csv\", row.names = FALSE)"
      ],
      "metadata": {
        "id": "zoJqmwojPgWI"
      },
      "execution_count": 3,
      "outputs": []
    },
    {
      "cell_type": "code",
      "source": [
        "\n",
        "# Converting all .xpt files to .csv\n",
        "\n",
        "# List all .xpt files\n",
        "xpt_files <- list.files(folder, pattern = \"\\\\.xpt$\", full.names = TRUE)\n",
        "\n",
        "# Loop through and convert each to .csv\n",
        "for (xpt_file in xpt_files) {\n",
        "  # Read .xpt file\n",
        "  data <- read_xpt(xpt_file)\n",
        "\n",
        "  # Create .csv filename\n",
        "  csv_file <- sub(\"\\\\.xpt$\", \".csv\", xpt_file)\n",
        "\n",
        "  # Write to CSV\n",
        "  write.csv(data, csv_file, row.names = FALSE)\n",
        "\n",
        "  cat(\"✅ Converted:\", xpt_file, \"→\", csv_file, \"\\n\")\n",
        "}"
      ],
      "metadata": {
        "id": "Y22x0sxZZLm-",
        "outputId": "ac708037-2fa3-4151-9d0e-a0522bde0b64",
        "colab": {
          "base_uri": "https://localhost:8080/"
        }
      },
      "execution_count": null,
      "outputs": [
        {
          "output_type": "stream",
          "name": "stderr",
          "text": [
            "Installing package into ‘/usr/local/lib/R/site-library’\n",
            "(as ‘lib’ is unspecified)\n",
            "\n"
          ]
        },
        {
          "output_type": "stream",
          "name": "stdout",
          "text": [
            "✅ Converted: /content/raw/BPXO_L.xpt → /content/raw/BPXO_L.csv \n",
            "✅ Converted: /content/raw/DEMO_L.xpt → /content/raw/DEMO_L.csv \n",
            "✅ Converted: /content/raw/HEPB_S_L.xpt → /content/raw/HEPB_S_L.csv \n",
            "✅ Converted: /content/raw/KIQ_U_L.xpt → /content/raw/KIQ_U_L.csv \n",
            "✅ Converted: /content/raw/PAQ_L.xpt → /content/raw/PAQ_L.csv \n",
            "✅ Converted: /content/raw/VID_L.xpt → /content/raw/VID_L.csv \n",
            "✅ Converted: /content/raw/WHQ_L.xpt → /content/raw/WHQ_L.csv \n"
          ]
        }
      ]
    },
    {
      "cell_type": "code",
      "execution_count": null,
      "metadata": {
        "id": "GK5IsFKQNWOW"
      },
      "outputs": [],
      "source": [
        "# Change Runtime Type back to Python prior to scripts below\n",
        "# Mapping urls\n",
        "demo = \"/content/raw/DEMO_L.csv\"\n",
        "bp = \"/content/raw/BPXO_L.csv\"\n",
        "vitd = \"/content/raw/VID_L.csv\"\n",
        "hepb = \"/content/raw/HEPB_S_L.csv\"\n",
        "kidney = \"/content/raw/KIQ_U_L.csv\"\n",
        "minbehavior = \"/content/raw/PAQ_L.csv\"\n",
        "weight = \"/content/raw/WHQ_L.csv\""
      ]
    },
    {
      "cell_type": "code",
      "source": [
        "demo = pd.read_csv(demo)\n",
        "print(demo.head())"
      ],
      "metadata": {
        "id": "b6IMadaSYhVb",
        "colab": {
          "base_uri": "https://localhost:8080/",
          "height": 159
        },
        "outputId": "5f95d7de-16d0-431a-f229-32a99dc0889c"
      },
      "execution_count": 2,
      "outputs": [
        {
          "output_type": "error",
          "ename": "NameError",
          "evalue": "name 'pd' is not defined",
          "traceback": [
            "\u001b[0;31m---------------------------------------------------------------------------\u001b[0m",
            "\u001b[0;31mNameError\u001b[0m                                 Traceback (most recent call last)",
            "\u001b[0;32m/tmp/ipython-input-901902203.py\u001b[0m in \u001b[0;36m<cell line: 0>\u001b[0;34m()\u001b[0m\n\u001b[0;32m----> 1\u001b[0;31m \u001b[0mdemo\u001b[0m \u001b[0;34m=\u001b[0m \u001b[0mpd\u001b[0m\u001b[0;34m.\u001b[0m\u001b[0mread_csv\u001b[0m\u001b[0;34m(\u001b[0m\u001b[0mdemo\u001b[0m\u001b[0;34m)\u001b[0m\u001b[0;34m\u001b[0m\u001b[0;34m\u001b[0m\u001b[0m\n\u001b[0m\u001b[1;32m      2\u001b[0m \u001b[0mprint\u001b[0m\u001b[0;34m(\u001b[0m\u001b[0mdemo1\u001b[0m\u001b[0;34m.\u001b[0m\u001b[0mhead\u001b[0m\u001b[0;34m(\u001b[0m\u001b[0;34m)\u001b[0m\u001b[0;34m)\u001b[0m\u001b[0;34m\u001b[0m\u001b[0;34m\u001b[0m\u001b[0m\n",
            "\u001b[0;31mNameError\u001b[0m: name 'pd' is not defined"
          ]
        }
      ]
    },
    {
      "cell_type": "code",
      "source": [
        "#removing duplicates\n",
        "demo1 = demo1.drop_duplicates()\n"
      ],
      "metadata": {
        "id": "qji20QjWYPQ5"
      },
      "execution_count": null,
      "outputs": []
    },
    {
      "cell_type": "code",
      "source": [],
      "metadata": {
        "id": "toEcJIMFd2xo"
      },
      "execution_count": null,
      "outputs": []
    }
  ]
}